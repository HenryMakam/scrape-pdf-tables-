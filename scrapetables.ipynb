{
 "cells": [
  {
   "cell_type": "code",
   "execution_count": 1,
   "id": "20d6ef07",
   "metadata": {},
   "outputs": [],
   "source": [
    "import pandas as pd\n",
    "import tabula"
   ]
  },
  {
   "cell_type": "code",
   "execution_count": 2,
   "id": "1ea275da",
   "metadata": {},
   "outputs": [],
   "source": [
    "data = \"plm.pdf\""
   ]
  },
  {
   "cell_type": "code",
   "execution_count": 3,
   "id": "6471151a",
   "metadata": {},
   "outputs": [
    {
     "name": "stderr",
     "output_type": "stream",
     "text": [
      "Got stderr: Oct 13, 2023 8:32:36 AM org.apache.pdfbox.pdmodel.font.FileSystemFontProvider loadDiskCache\r\n",
      "WARNING: New fonts found, font cache will be re-built\r\n",
      "Oct 13, 2023 8:32:36 AM org.apache.pdfbox.pdmodel.font.FileSystemFontProvider <init>\r\n",
      "WARNING: Building on-disk font cache, this may take a while\r\n",
      "Oct 13, 2023 8:32:40 AM org.apache.pdfbox.pdmodel.font.FileSystemFontProvider <init>\r\n",
      "WARNING: Finished building on-disk font cache, found 368 fonts\r\n",
      "\n"
     ]
    }
   ],
   "source": [
    "df = tabula.read_pdf(data, pages = \"all\")"
   ]
  },
  {
   "cell_type": "code",
   "execution_count": 7,
   "id": "9c750571",
   "metadata": {},
   "outputs": [],
   "source": [
    "for i in range(len(df)):\n",
    "    df[i].to_excel(f\"RARA{i}.xlsx\")"
   ]
  },
  {
   "cell_type": "code",
   "execution_count": 8,
   "id": "8decd420",
   "metadata": {},
   "outputs": [],
   "source": [
    "data1 = \"elec2.pdf\""
   ]
  },
  {
   "cell_type": "code",
   "execution_count": 9,
   "id": "8120e9d1",
   "metadata": {},
   "outputs": [],
   "source": [
    "df1 = tabula.read_pdf(data1, pages = 'all')"
   ]
  },
  {
   "cell_type": "code",
   "execution_count": 10,
   "id": "8731ae65",
   "metadata": {},
   "outputs": [],
   "source": [
    "for i in range(len(df1)):\n",
    "    df1[i].to_excel(f\"elec2{i}.xlsx\")"
   ]
  },
  {
   "cell_type": "code",
   "execution_count": 11,
   "id": "47fb61d0",
   "metadata": {},
   "outputs": [],
   "source": [
    "data2 = \"elec3.pdf\""
   ]
  },
  {
   "cell_type": "code",
   "execution_count": 13,
   "id": "13818e91",
   "metadata": {},
   "outputs": [],
   "source": [
    "df2 = tabula.read_pdf(data2, pages = 'all')"
   ]
  },
  {
   "cell_type": "code",
   "execution_count": 14,
   "id": "57d7dd8e",
   "metadata": {},
   "outputs": [],
   "source": [
    "for i in range(len(df2)):\n",
    "    df2[i].to_excel(f\"elec3{i}.xlsx\")"
   ]
  },
  {
   "cell_type": "code",
   "execution_count": 15,
   "id": "851b9200",
   "metadata": {},
   "outputs": [],
   "source": [
    "data3 = \"elecgn1.pdf\""
   ]
  },
  {
   "cell_type": "code",
   "execution_count": 16,
   "id": "1342259b",
   "metadata": {},
   "outputs": [],
   "source": [
    "df3 = tabula.read_pdf(data3, pages = 'all')"
   ]
  },
  {
   "cell_type": "code",
   "execution_count": 17,
   "id": "811b5c71",
   "metadata": {},
   "outputs": [],
   "source": [
    "for i in range(len(df3)):\n",
    "    df3[i].to_excel(f\"elecgn1{i}.xlsx\")"
   ]
  },
  {
   "cell_type": "code",
   "execution_count": 18,
   "id": "a023bd55",
   "metadata": {},
   "outputs": [],
   "source": [
    "data4 = \"footing.pdf\""
   ]
  },
  {
   "cell_type": "code",
   "execution_count": 19,
   "id": "22b00251",
   "metadata": {},
   "outputs": [],
   "source": [
    "df4 = tabula.read_pdf(data4, pages = 'all')"
   ]
  },
  {
   "cell_type": "code",
   "execution_count": 20,
   "id": "988cfdfa",
   "metadata": {},
   "outputs": [],
   "source": [
    "for i in range(len(df4)):\n",
    "    df4[i].to_excel(f\"footing{i}.xlsx\")"
   ]
  },
  {
   "cell_type": "code",
   "execution_count": 21,
   "id": "88a28c68",
   "metadata": {},
   "outputs": [],
   "source": [
    "data5 = \"glazing.pdf\""
   ]
  },
  {
   "cell_type": "code",
   "execution_count": 22,
   "id": "1ee5a055",
   "metadata": {},
   "outputs": [],
   "source": [
    "df5 = tabula.read_pdf(data5, pages = 'all')"
   ]
  },
  {
   "cell_type": "code",
   "execution_count": 23,
   "id": "91df8d98",
   "metadata": {},
   "outputs": [],
   "source": [
    "for i in range(len(df5)):\n",
    "    df5[i].to_excel(f\"glazing{i}.xlsx\")"
   ]
  },
  {
   "cell_type": "code",
   "execution_count": 24,
   "id": "f12d9d1e",
   "metadata": {},
   "outputs": [],
   "source": [
    "data6 = \"material.pdf\""
   ]
  },
  {
   "cell_type": "code",
   "execution_count": 25,
   "id": "6dea23ff",
   "metadata": {},
   "outputs": [],
   "source": [
    "df6 = tabula.read_pdf(data6, pages = 'all')"
   ]
  },
  {
   "cell_type": "code",
   "execution_count": 26,
   "id": "056a277b",
   "metadata": {},
   "outputs": [],
   "source": [
    "for i in range(len(df6)):\n",
    "    df6[i].to_excel(f\"material{i}.xlsx\")"
   ]
  },
  {
   "cell_type": "code",
   "execution_count": null,
   "id": "2df10db8",
   "metadata": {},
   "outputs": [],
   "source": []
  }
 ],
 "metadata": {
  "kernelspec": {
   "display_name": "Python 3 (ipykernel)",
   "language": "python",
   "name": "python3"
  },
  "language_info": {
   "codemirror_mode": {
    "name": "ipython",
    "version": 3
   },
   "file_extension": ".py",
   "mimetype": "text/x-python",
   "name": "python",
   "nbconvert_exporter": "python",
   "pygments_lexer": "ipython3",
   "version": "3.9.12"
  }
 },
 "nbformat": 4,
 "nbformat_minor": 5
}
